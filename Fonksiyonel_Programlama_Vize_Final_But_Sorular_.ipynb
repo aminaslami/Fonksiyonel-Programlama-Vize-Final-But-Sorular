{
  "nbformat": 4,
  "nbformat_minor": 0,
  "metadata": {
    "colab": {
      "name": "Fonksiyonel Programlama Vize Final But Sorular .ipynb",
      "provenance": [],
      "collapsed_sections": []
    },
    "kernelspec": {
      "name": "python3",
      "display_name": "Python 3"
    },
    "language_info": {
      "name": "python"
    }
  },
  "cells": [
    {
      "cell_type": "code",
      "execution_count": null,
      "metadata": {
        "colab": {
          "base_uri": "https://localhost:8080/"
        },
        "id": "EXCp_8hwK0w5",
        "outputId": "3b616acf-1b16-4178-f909-a07de82e1c02"
      },
      "outputs": [
        {
          "output_type": "stream",
          "name": "stdout",
          "text": [
            "['armut', 'ahududu']\n"
          ]
        }
      ],
      "source": [
        "\"\"\" 4. Hafta Lab - ve Vize Lab Dersi\"\"\"\n",
        "\n",
        "# Soru1) Aşağıdaki stringten A ile başlayanları filtreleyen tek satırlık kodu yazınız.\n",
        "meyveler=\"elma armut karpuz ahududu\"\n",
        "x = filter(lambda a: a.startswith(\"a\"), meyveler.split())\n",
        "print(list(x))"
      ]
    },
    {
      "cell_type": "code",
      "source": [
        "# Soru2) Aşağıdaki stringteki her kelimenin ilk harfini büyük yapan map tek satırlık kodu yazınız.\n",
        "meyveler=\"elma armut karpuz ahududu\"\n",
        "x = map(lambda a: a.capitalize(), meyveler.split())\n",
        "print(list(x))"
      ],
      "metadata": {
        "colab": {
          "base_uri": "https://localhost:8080/"
        },
        "id": "dQoKchwVMb0_",
        "outputId": "8adb3331-e46f-4684-b552-39db4f0778b2"
      },
      "execution_count": null,
      "outputs": [
        {
          "output_type": "stream",
          "name": "stdout",
          "text": [
            "['Elma', 'Armut', 'Karpuz', 'Ahududu']\n"
          ]
        }
      ]
    },
    {
      "cell_type": "code",
      "source": [
        "# Soru3) Random üretilen sayıların toplamını reduce kullanarak hesaplatın.\n",
        "import random\n",
        "from functools import reduce\n",
        "from re import S\n",
        "x = reduce(lambda a,b: a+b, [random.random() for i in range(10)])\n",
        "print(x)"
      ],
      "metadata": {
        "colab": {
          "base_uri": "https://localhost:8080/"
        },
        "id": "oS6f7kvGMb3s",
        "outputId": "5983fe8b-9e0b-4df4-a9f9-2f0771773165"
      },
      "execution_count": null,
      "outputs": [
        {
          "output_type": "stream",
          "name": "stdout",
          "text": [
            "3.7651839577323147\n"
          ]
        }
      ]
    },
    {
      "cell_type": "code",
      "source": [
        "# Soru4) Aşağıdaki listeden palindroom (tersten okunuşları ile aynı olan) filtreleyen tek satırlık kodu yazınız.\n",
        "#        myStrings = (\"demigod\", \"rewire\", \"madam\", \"fortran\", \"python\", \"xamarin\", \"salas\", \"PHP\")\n",
        "\n",
        "myStrings = (\"demigod\", \"rewire\", \"madam\", \"fortran\", \"python\", \"xamarin\", \"salas\", \"PHP\") \n",
        "print(list(filter(lambda a : a==a [::-1], myStrings)))"
      ],
      "metadata": {
        "colab": {
          "base_uri": "https://localhost:8080/"
        },
        "id": "zMNzrxc8Mb6i",
        "outputId": "5f5bc7d4-4e99-4ff6-ca06-15f9c1444bc4"
      },
      "execution_count": null,
      "outputs": [
        {
          "output_type": "stream",
          "name": "stdout",
          "text": [
            "['madam', 'salas', 'PHP']\n"
          ]
        }
      ]
    },
    {
      "cell_type": "code",
      "source": [
        "# Soru5) Aşağıda kişilerin fatura tutarları ve son ödeme tarihlerinin yazıldığı bir veri yapısı bulunmaktadır. \n",
        "#       Son ödeme tarihi geçmiş olanlara %20 gecikme zammı uygulayarak, bir başka sözlüğe borçluları\n",
        "#       ve borçları aşağıdaki gibi ekleyen kodu yazınız. Not: çözümde datetime kütüphanesi,\n",
        "#       map ve list comprehension kullanılarak çıktıyı üreten kod tek satır olarak yazılmıştır.\n",
        "\n",
        "import datetime\n",
        "liste = [\n",
        "    {\"isim\":\"ali\", \"borc\":46, \"son_odeme\":\"2022 8 7\"},\n",
        "    {\"isim\":\"veli\", \"borc\":50, \"son_odeme\":\"2022 9 7\"},\n",
        "    {\"isim\":\"ayse\", \"borc\":100, \"son_odeme\":\"2021 9 15\"},\n",
        "    {\"isim\":\"fatma\", \"borc\":80, \"son_odeme\":\"2022 9 7\"},\n",
        "]\n",
        "simdi = datetime.datetime.now()\n",
        "\n",
        "x = [{\"isim\":a[\"isim\"], \"borc\":a[\"borc\"]*1.2} for a in liste if datetime.datetime(*(map(int, a[\"son_odeme\"].split())))]\n",
        "print(x)"
      ],
      "metadata": {
        "colab": {
          "base_uri": "https://localhost:8080/"
        },
        "id": "s7hFjXLSMb83",
        "outputId": "ceaa87b3-5910-4d4e-d949-7b1fd5b83094"
      },
      "execution_count": null,
      "outputs": [
        {
          "output_type": "stream",
          "name": "stdout",
          "text": [
            "[{'isim': 'ali', 'borc': 55.199999999999996}, {'isim': 'veli', 'borc': 60.0}, {'isim': 'ayse', 'borc': 120.0}, {'isim': 'fatma', 'borc': 96.0}]\n"
          ]
        }
      ]
    },
    {
      "cell_type": "code",
      "source": [
        "# Soru7) Reduce kullanarak faktöriyel hesaplayan bir program yazınız.\n",
        "import random\n",
        "from functools import reduce\n",
        "n=5\n",
        "print(reduce(lambda a,b:a*b,[i for i in range(1, n+1)]))"
      ],
      "metadata": {
        "colab": {
          "base_uri": "https://localhost:8080/"
        },
        "id": "9_wDHvQJMb_q",
        "outputId": "5deb21de-c098-40e5-8da3-168aa2eb7997"
      },
      "execution_count": null,
      "outputs": [
        {
          "output_type": "stream",
          "name": "stdout",
          "text": [
            "120\n"
          ]
        }
      ]
    },
    {
      "cell_type": "code",
      "source": [
        "##############################################################################################################"
      ],
      "metadata": {
        "id": "QhU5RukyMcE5"
      },
      "execution_count": null,
      "outputs": []
    },
    {
      "cell_type": "code",
      "source": [
        "\"\"\" Fonk Prog - Yaz Okul 2022 Vize Cevapları \"\"\"\n",
        "# Soru1) Parametre olarak 4 sayı toplamını yazdıran - tek satırlık kodu yazınız.\n",
        "def topla(a,b,c,d):\n",
        "    t=a+b+c+d\n",
        "    return t\n",
        "s=\"1.2 2.3 3 4\"\n",
        "\n",
        "print(topla(*(map(float, s.split()) )))"
      ],
      "metadata": {
        "colab": {
          "base_uri": "https://localhost:8080/"
        },
        "id": "9lcsW6uHMcHm",
        "outputId": "1108065b-74ae-4194-96c7-0fecceeac6a6"
      },
      "execution_count": null,
      "outputs": [
        {
          "output_type": "stream",
          "name": "stdout",
          "text": [
            "10.5\n"
          ]
        }
      ]
    },
    {
      "cell_type": "code",
      "source": [
        "# Soru2) random.random kullanarak 1-10'a kadar sayıların toplamını yazdıran tek satırlık kodu yazınız.\n",
        "from functools import reduce\n",
        "import random\n",
        "x = reduce(lambda a,b:a+b, [random.random() for i in range(10)])"
      ],
      "metadata": {
        "colab": {
          "base_uri": "https://localhost:8080/"
        },
        "id": "3kQMXabCMcKW",
        "outputId": "e3c3e3a3-8f61-422e-f1af-cc6798a91747"
      },
      "execution_count": null,
      "outputs": [
        {
          "output_type": "stream",
          "name": "stdout",
          "text": [
            "5.701493208034286\n"
          ]
        }
      ]
    },
    {
      "cell_type": "code",
      "source": [
        "# Soru3) Tersten okunuşu ayını olan kelimleri - filter - kullanarak tek satırlık kodu yazınız.\n",
        "kelimeler=(\"demigod\", \"madam\", \"python\", \"salas\" ,\"php\")\n",
        "p = list( filter(lambda a: a==a [::-1], kelimeler))"
      ],
      "metadata": {
        "colab": {
          "base_uri": "https://localhost:8080/"
        },
        "id": "UW714bA2McQB",
        "outputId": "f7da5bb5-60eb-4f44-c14d-b9fe7dd2f003"
      },
      "execution_count": null,
      "outputs": [
        {
          "output_type": "stream",
          "name": "stdout",
          "text": [
            "['madam', 'salas', 'php']\n"
          ]
        }
      ]
    },
    {
      "cell_type": "code",
      "source": [
        "# Soru4) Liste içerisinde alfabelerin kaç defa tekrar ettini tek satırlık kodu yazınız.\n",
        "items=[\"a\",\"b\",\"c\",\"d\",\"c\",\"b\",\"a\"]\n",
        "s={str(i):items.count(i) for i in items}"
      ],
      "metadata": {
        "colab": {
          "base_uri": "https://localhost:8080/"
        },
        "id": "tJ7SP-S9McSn",
        "outputId": "8d5ad74b-1792-4f82-8a85-b7b9549c3a47"
      },
      "execution_count": null,
      "outputs": [
        {
          "output_type": "stream",
          "name": "stdout",
          "text": [
            "{'a': 2, 'b': 2, 'c': 2, 'd': 1}\n"
          ]
        }
      ]
    },
    {
      "cell_type": "code",
      "source": [
        "##############################################################################################################"
      ],
      "metadata": {
        "id": "rTo2ak3bMcVf"
      },
      "execution_count": null,
      "outputs": []
    },
    {
      "cell_type": "code",
      "source": [
        "\"\"\" Fonk Prog - 2022-04-20 Vize Cevapları \"\"\"\n",
        "\n",
        "# Soru1 ) Aşağıdaki programın ekran çıktısı ne olur, kodun açıklamasını yaparak yazınız.\n",
        "\n",
        "from functools import reduce\n",
        "a = [\"python\", \"programlama\", \"dili\", \"ile\", \"fonksiyonel\", \"programlama\"]\n",
        "\n",
        "b = len(list(filter(lambda a: len(a)>3, a)))\n",
        "c = reduce(lambda a,b : a*b, range(1, b+1))\n",
        "print(c)"
      ],
      "metadata": {
        "colab": {
          "base_uri": "https://localhost:8080/"
        },
        "id": "Zg2oIv-bMcYM",
        "outputId": "52323b48-8fbe-4884-fba3-9c81798495a5"
      },
      "execution_count": null,
      "outputs": [
        {
          "output_type": "stream",
          "name": "stdout",
          "text": [
            "120\n"
          ]
        }
      ]
    },
    {
      "cell_type": "code",
      "source": [
        "# Soru2 ) Aşağıdaki programın ekran çıktısı ne olur, kodun açıklamasını yaparak yazınız.\n",
        "from functools import reduce\n",
        "a = \"abcdefghijklmanopqrstuvwxyz\"\n",
        "\n",
        "b = reduce(lambda a,b : a.upper() + b.lower(), list(a.strip(' ')))\n",
        "print(b)"
      ],
      "metadata": {
        "colab": {
          "base_uri": "https://localhost:8080/"
        },
        "id": "DXwKrhIKMcbK",
        "outputId": "2f0c98dd-fac4-4752-ad73-eb2912c425e9"
      },
      "execution_count": null,
      "outputs": [
        {
          "output_type": "stream",
          "name": "stdout",
          "text": [
            "ABCDEFGHIJKLMANOPQRSTUVWXYz\n"
          ]
        }
      ]
    },
    {
      "cell_type": "code",
      "source": [
        "# Soru3 ) itmes = [\"a\",\"b\",\"a\",\"c\",\"d\",\"c\",\"b\",\"a\"] listesindeki her bir elemanın kaç defa geçtiği \n",
        "#         {'a':3, 'b':2, 'd':1} şeklinde sözlük yapısı oluşturan Python tek satırlık kodu fonksiyonel \n",
        "#         programlama kullanarak yazınız\n",
        "\n",
        "itmes = [\"a\",\"b\",\"a\",\"c\",\"d\",\"c\",\"b\",\"a\"]\n",
        "x = {i:items.count(i) for i in items}\n",
        "print(x)"
      ],
      "metadata": {
        "colab": {
          "base_uri": "https://localhost:8080/"
        },
        "id": "VcXR24mHMceL",
        "outputId": "87269543-950f-470a-833a-21049d503ecf"
      },
      "execution_count": null,
      "outputs": [
        {
          "output_type": "stream",
          "name": "stdout",
          "text": [
            "{'a': 2, 'b': 2, 'c': 2, 'd': 1}\n"
          ]
        }
      ]
    },
    {
      "cell_type": "code",
      "source": [
        "# Soru4) Harf ve rakamlardan oluşan unique stringler üretilecektir. Aşağıdaki gib x listesinde bunların olduğunu\n",
        "#        varsayarak, bu listeden sadece unique (tekil) olanları alan Python tek satırlık kodu yazınız. \n",
        "\n",
        "from functools import reduce\n",
        "x = [\"a1\", \"b1\", \"a1\", \"1a\", \"abc123\", \"1a2b\", \"b1\"]\n",
        "y = list(set(x))\n",
        "print(y)"
      ],
      "metadata": {
        "colab": {
          "base_uri": "https://localhost:8080/"
        },
        "id": "NwsDcgBWMcgu",
        "outputId": "f8ad07b5-7b81-4d5a-8a9b-4dfe4ee27180"
      },
      "execution_count": null,
      "outputs": [
        {
          "output_type": "stream",
          "name": "stdout",
          "text": [
            "['1a', 'abc123', 'b1', 'a1', '1a2b']\n"
          ]
        }
      ]
    },
    {
      "cell_type": "code",
      "source": [
        "# Soru5 ) x=\"Python\" stringini alıp ['P','Py','Pyt','Pyth','Pytho','Python'] listesini üreten Python \n",
        "#         fonksiynel programlama tek satırlık kodunu yazınız.\n",
        "\n",
        "x = \"Python\"\n",
        "y = [x [0: i+1] for i in range(0, len(x))]\n",
        "print(y)"
      ],
      "metadata": {
        "colab": {
          "base_uri": "https://localhost:8080/"
        },
        "id": "FBBaH93SMcjp",
        "outputId": "9a81cb2e-542b-41e0-e762-9b4059a1a4e2"
      },
      "execution_count": null,
      "outputs": [
        {
          "output_type": "stream",
          "name": "stdout",
          "text": [
            "['P', 'Py', 'Pyt', 'Pyth', 'Pytho', 'Python']\n"
          ]
        }
      ]
    },
    {
      "cell_type": "code",
      "source": [
        "##############################################################################################################"
      ],
      "metadata": {
        "id": "hVS8oixJMcme"
      },
      "execution_count": null,
      "outputs": []
    },
    {
      "cell_type": "code",
      "source": [
        "\"\"\" Fonk Prog - 2022-06-17 Final Cevapları \"\"\"\n",
        "\n",
        "# Soru1 ) Aşağıdaki programın ekran çıktısı ne olur, kodun açıklamasını yaparak yazınız.\n",
        "\n",
        "print(''.join(map(lambda a:a [::-1] if len(a) > 3 else a, \"Why I do Love Python?\".split(\" \"))))"
      ],
      "metadata": {
        "colab": {
          "base_uri": "https://localhost:8080/"
        },
        "id": "q25sVPV5Mcpv",
        "outputId": "bb794d36-5c90-482c-eb35-5498dacadffd"
      },
      "execution_count": null,
      "outputs": [
        {
          "output_type": "stream",
          "name": "stdout",
          "text": [
            "WhyIdoevoL?nohtyP\n"
          ]
        }
      ]
    },
    {
      "cell_type": "code",
      "source": [
        "\n",
        "# Soru2 ) Satislar dizisinde kac tane su olduğunu, toplamını bulan tek satırlık kodu yazınız.\n",
        "satislar = [\n",
        "    {\"tur\": \"su\", \"adet\": 2},\n",
        "    {\"tur\": \"domates\", \"adet\": 5},\n",
        "    {\"tur\": \"poset\", \"adet\": 4},\n",
        "    {\"tur\": \"su\", \"adet\": 3}\n",
        "]\n",
        "# x = sum([item[\"adet\"] for item in satislar if item[\"tur\"] == \"su\"])\n",
        "toplam = sum(map(lambda x:x[\"adet\"] if x[\"tur\"] == \"su\" else 0, satislar))\n",
        "print(toplam)"
      ],
      "metadata": {
        "colab": {
          "base_uri": "https://localhost:8080/"
        },
        "id": "yf4qjEYpMcsc",
        "outputId": "8c397cd7-6ca9-44ea-9e52-229dc62fd688"
      },
      "execution_count": null,
      "outputs": [
        {
          "output_type": "stream",
          "name": "stdout",
          "text": [
            "5\n"
          ]
        }
      ]
    },
    {
      "cell_type": "code",
      "source": [
        "# Soru3 ) Yasaklı olan web siteleri liste içerisinde ayırırak bize çıktı üreten tek satırlık kodu yazınız.\n",
        "#         bans dizisinde geçen urllerin ban listesi olarak alınması\n",
        "urls = ['www.firat.edu.tr', 'www.kartoyunu.com', 'www.google.com', 'www.bahisvar.com', 'www.ktu.edu.tr', 'www.kumar.com']\n",
        "bans = 'kart bahis kumar'\n",
        "\n",
        "x = list(filter(lambda a: any([1 if ban in a else 0 for ban in bans.split(' ')]), urls))\n",
        "print(x)"
      ],
      "metadata": {
        "colab": {
          "base_uri": "https://localhost:8080/"
        },
        "id": "22UMngUbNGy0",
        "outputId": "ffd19452-8c9d-4c6a-e790-031da969c95f"
      },
      "execution_count": null,
      "outputs": [
        {
          "output_type": "stream",
          "name": "stdout",
          "text": [
            "['www.kartoyunu.com', 'www.bahisvar.com', 'www.kumar.com']\n"
          ]
        }
      ]
    },
    {
      "cell_type": "code",
      "source": [
        "# Soru4) Kodun çıktısısını tek satırla açıklayınız.\n",
        "from functools import reduce\n",
        "\n",
        "x = reduce(lambda a,b: a**b, range(-1,6,2))\n",
        "print(x) \n",
        "# Taban 1 olduğu için sonuç her zaman 1 olacaktır. yada -1 olacaktır.\n",
        "# Eğer sayı çift ise sonuc pozitif bir değer olacaktır."
      ],
      "metadata": {
        "colab": {
          "base_uri": "https://localhost:8080/"
        },
        "id": "Bb3PVqSbNG3E",
        "outputId": "892a53cc-5cc3-4e30-d558-163d99e0ec12"
      },
      "execution_count": null,
      "outputs": [
        {
          "output_type": "stream",
          "name": "stdout",
          "text": [
            "-1\n"
          ]
        }
      ]
    },
    {
      "cell_type": "code",
      "source": [
        "# Soru5) Sadece unique hafları yazdıran tek satırlık kodu yazınız.\n",
        "# Set sadece elemanlar bir defa içeriyor. Tekrar elemanlar içermezler.\n",
        "\n",
        "metin=\"aaabbbbccadamamaaauummn\"\n",
        "print(set(list(metin)))"
      ],
      "metadata": {
        "colab": {
          "base_uri": "https://localhost:8080/"
        },
        "id": "txB3icaXNG5y",
        "outputId": "cc4841e2-7f14-4e66-bd20-35bee52374e8"
      },
      "execution_count": null,
      "outputs": [
        {
          "output_type": "stream",
          "name": "stdout",
          "text": [
            "{'a', 'm', 'u', 'c', 'd', 'b', 'n'}\n"
          ]
        }
      ]
    },
    {
      "cell_type": "code",
      "source": [
        "##############################################################################################################"
      ],
      "metadata": {
        "id": "QKZ5VmmUNG7j"
      },
      "execution_count": null,
      "outputs": []
    },
    {
      "cell_type": "code",
      "source": [
        "\"\"\" Fonk Prog - 2022-06-29 Bütünleme Cevapları \"\"\"\n",
        "\n",
        "# Soru1 ) Aşağıdaki programın ekran çıktısı ne olur, kodun açıklamasını yaparak yazınız.\n",
        "\n",
        "print(''.join(map(lambda a:a [::-1] if len(a) > 5 else a, \"Neden Python Programlamayi Seviryoum?\"[::-1].split(\" \"))))"
      ],
      "metadata": {
        "colab": {
          "base_uri": "https://localhost:8080/"
        },
        "id": "nks-cB5eNG9d",
        "outputId": "6774fdf7-126c-47a0-d687-de88cb161b5a"
      },
      "execution_count": null,
      "outputs": [
        {
          "output_type": "stream",
          "name": "stdout",
          "text": [
            "Seviryoum?ProgramlamayiPythonnedeN\n"
          ]
        }
      ]
    },
    {
      "cell_type": "code",
      "source": [
        "# Soru2 ) itmes = [\"a\",\"b\",\"a\",\"c\",\"d\",\"c\",\"b\",\"a\"] listesindeki her bir elemanın kaç defa geçtiği \n",
        "#         {'a':3, 'b':2, 'd':1} şeklinde sözlük yapısı oluşturan Python tek satırlık kodu fonksiyonel \n",
        "#         programlama kullanarak yazınız\n",
        "\n",
        "items = [\"a\",\"b\",\"a\",\"c\",\"d\",\"c\",\"b\",\"a\"]\n",
        "s = {str(i):items.count(i) for i in items}\n",
        "print(s)"
      ],
      "metadata": {
        "colab": {
          "base_uri": "https://localhost:8080/"
        },
        "id": "S25mijpmNG_c",
        "outputId": "f632cff9-adf8-47ca-c46e-4dcc5ace9ec6"
      },
      "execution_count": null,
      "outputs": [
        {
          "output_type": "stream",
          "name": "stdout",
          "text": [
            "{'a': 3, 'b': 2, 'c': 2, 'd': 1}\n"
          ]
        }
      ]
    },
    {
      "cell_type": "code",
      "source": [
        "# Soru3 ) Hoca bu soruda any ve all kullanmıştı, o yüzden çıktısı - ['firat.edu.tr', 'inonu.edu.tr'] olmuştu.\n",
        "urls = ['firat.edu.tr', 'kartoyunu.com', 'bahisvar.com', 'inonu.edu.tr', 'kumar.com']\n",
        "yasakli = 'kart bahis kumar'\n",
        "\n",
        "cevap = ['firat.edu.tr', 'inonu.edu.tr'] # Yasaklı listede olmayanlar kalacak"
      ],
      "metadata": {
        "id": "Z0FMBopwNHBQ"
      },
      "execution_count": null,
      "outputs": []
    },
    {
      "cell_type": "code",
      "source": [
        "\n",
        "# Soru4 ) 4. Soru derste çözmüştük (sadece s yani adım sayısı 1 almıştık ki, o zamanda faktöriyel bulur.)\n",
        "from functools import reduce\n",
        "s = 1\n",
        "n = 6\n",
        "x = reduce(lambda a,b : a*b, range(1, n, s))\n",
        "print(x)"
      ],
      "metadata": {
        "colab": {
          "base_uri": "https://localhost:8080/"
        },
        "id": "YKsIJg_CNHDH",
        "outputId": "c93403b3-ffc3-4c95-c1ba-75f8f7e2a501"
      },
      "execution_count": null,
      "outputs": [
        {
          "output_type": "stream",
          "name": "stdout",
          "text": [
            "120\n"
          ]
        }
      ]
    },
    {
      "cell_type": "code",
      "source": [
        "##############################################################################################################"
      ],
      "metadata": {
        "id": "GlKdEgglNHFL"
      },
      "execution_count": null,
      "outputs": []
    },
    {
      "cell_type": "code",
      "source": [
        "\"\"\" Çalışma Soru && Cevapları \"\"\"\n",
        "\n",
        "# Soru1) 1'den 100'a kadar çift sayıları yazdıran tek satırlık kodu yazınız.\n",
        "\n",
        "x = [i for i in range(1, 101) if i%2 == 0]\n",
        "print(x)"
      ],
      "metadata": {
        "colab": {
          "base_uri": "https://localhost:8080/"
        },
        "id": "q_wpMSTMNHHY",
        "outputId": "dc9f5726-f288-4ce7-bd52-3a5b0d044992"
      },
      "execution_count": null,
      "outputs": [
        {
          "output_type": "stream",
          "name": "stdout",
          "text": [
            "[2, 4, 6, 8, 10, 12, 14, 16, 18, 20, 22, 24, 26, 28, 30, 32, 34, 36, 38, 40, 42, 44, 46, 48, 50, 52, 54, 56, 58, 60, 62, 64, 66, 68, 70, 72, 74, 76, 78, 80, 82, 84, 86, 88, 90, 92, 94, 96, 98, 100]\n"
          ]
        }
      ]
    },
    {
      "cell_type": "code",
      "source": [
        "# Soru2) N sayının faktöriyelini alan programı - Fonk Prog. ile tek satırda yazınız.\n",
        "\n",
        "from functools import reduce\n",
        "n = 5\n",
        "a = reduce(lambda a,b : a*b, [i for i in range(1, n+1)])\n",
        "print(a)"
      ],
      "metadata": {
        "colab": {
          "base_uri": "https://localhost:8080/"
        },
        "id": "Bxnk_-r0NHJo",
        "outputId": "a4e5b0af-d663-4e77-e79b-e12645f75ec3"
      },
      "execution_count": null,
      "outputs": [
        {
          "output_type": "stream",
          "name": "stdout",
          "text": [
            "120\n"
          ]
        }
      ]
    },
    {
      "cell_type": "code",
      "source": [
        "# Soru3) Dizideki kelimeleri \"Merhaba Python Programlama Dili\"  ifadesine dönüştürecek tek satırlık kod \n",
        "\n",
        "X = [\"MerhaBA\", \"PYTHON\", \"pROGRAMLAMA\", \"Dili\"]\n",
        "print(\" \".join(map(lambda a: a.title(), X)))"
      ],
      "metadata": {
        "colab": {
          "base_uri": "https://localhost:8080/"
        },
        "id": "RtaqWxctNHL4",
        "outputId": "07a9d7b8-703a-4173-bf30-aa44256361cd"
      },
      "execution_count": null,
      "outputs": [
        {
          "output_type": "stream",
          "name": "stdout",
          "text": [
            "Merhaba Python Programlama Dili\n"
          ]
        }
      ]
    },
    {
      "cell_type": "code",
      "source": [
        "# Soru4) \n",
        "\n",
        "urls = [\"firat.edu.tr\", \"bahis.com\", \"milyeit.com.tr\", \"osym.gov.tr\"]\n",
        "ban = \"kumar kart bahis\"\n",
        "\n",
        "safelist = list()\n",
        "banlist = list()\n",
        "\n",
        "[banlist.append(u) if any(w in u for w in ban.split(\" \")) else safelist.append(u) for u in urls]\n",
        "print(banlist, \"\\n.....\\n\", safelist)"
      ],
      "metadata": {
        "colab": {
          "base_uri": "https://localhost:8080/"
        },
        "id": "0odu55gKNHOP",
        "outputId": "2eb843e6-eae5-47e1-d32a-3c2d35b33721"
      },
      "execution_count": null,
      "outputs": [
        {
          "output_type": "stream",
          "name": "stdout",
          "text": [
            "['bahis.com'] \n",
            ".....\n",
            " ['firat.edu.tr', 'milyeit.com.tr', 'osym.gov.tr']\n"
          ]
        }
      ]
    },
    {
      "cell_type": "code",
      "source": [
        "# Soru5) \n",
        "cift = list()\n",
        "tek = list()\n",
        "[cift.append(i) if i%2 == 0 else tek.append(i) for i in range(100)]\n",
        "print(cift, \"\\n.....\\n\", tek)"
      ],
      "metadata": {
        "colab": {
          "base_uri": "https://localhost:8080/"
        },
        "id": "iE3Z078bNHQM",
        "outputId": "a0cf7471-7d75-4a54-8b4d-7b928dec4247"
      },
      "execution_count": null,
      "outputs": [
        {
          "output_type": "stream",
          "name": "stdout",
          "text": [
            "[0, 2, 4, 6, 8, 10, 12, 14, 16, 18, 20, 22, 24, 26, 28, 30, 32, 34, 36, 38, 40, 42, 44, 46, 48, 50, 52, 54, 56, 58, 60, 62, 64, 66, 68, 70, 72, 74, 76, 78, 80, 82, 84, 86, 88, 90, 92, 94, 96, 98] \n",
            ".....\n",
            " [1, 3, 5, 7, 9, 11, 13, 15, 17, 19, 21, 23, 25, 27, 29, 31, 33, 35, 37, 39, 41, 43, 45, 47, 49, 51, 53, 55, 57, 59, 61, 63, 65, 67, 69, 71, 73, 75, 77, 79, 81, 83, 85, 87, 89, 91, 93, 95, 97, 99]\n"
          ]
        }
      ]
    },
    {
      "cell_type": "code",
      "source": [
        "# Soru6) \n",
        "siparisler = [\n",
        "            {\"tur\":\"su\",\"porsiyon\":2},\n",
        "            {\"tur\":\"adana\",\"porsiyon\":1.5},\n",
        "            {\"tur\":\"lahmacun\",\"porsiyon\":2},\n",
        "            {\"tur\":\"adana\",\"porsiyon\":2},\n",
        "            ]\n",
        "sonuc = sum([s[\"porsiyon\"]for s in siparisler if s[\"tur\"] == \"adana\"])\n",
        "print(sonuc)"
      ],
      "metadata": {
        "colab": {
          "base_uri": "https://localhost:8080/"
        },
        "id": "00MV1uIxNHUj",
        "outputId": "b8c673b2-cfd6-4375-add4-4adf7efa241e"
      },
      "execution_count": null,
      "outputs": [
        {
          "output_type": "stream",
          "name": "stdout",
          "text": [
            "3.5\n"
          ]
        }
      ]
    },
    {
      "cell_type": "code",
      "source": [
        "siparislers= [\n",
        "             {'tur':'kebap', \"adet\": 2}, {'tur':'ciger', \"adet\": 1}, \n",
        "             {'tur':'corba', \"adet\": 2}, {'tur':'kebap', \"adet\": 5}\n",
        "            ]\n",
        "\n",
        "toplam= sum(map(lambda x:x[\"adet\"] if x[\"tur\"] == \"kebap\" else 0, siparislers))\n",
        "print(toplam)"
      ],
      "metadata": {
        "colab": {
          "base_uri": "https://localhost:8080/"
        },
        "id": "A4fp-86XW0Wz",
        "outputId": "16c959e5-2b6a-4f52-d096-13c722b7f75b"
      },
      "execution_count": null,
      "outputs": [
        {
          "output_type": "stream",
          "name": "stdout",
          "text": [
            "7\n"
          ]
        }
      ]
    }
  ]
}